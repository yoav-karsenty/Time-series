{
 "cells": [
  {
   "cell_type": "markdown",
   "metadata": {},
   "source": [
    "# LIft Taxi Project\n",
    "\n",
    "in this project, for Sweet Lift Taxi company, i have historical data on taxi orders at airports. To attract more drivers during peak hours, i need to predict the amount of taxi orders for the next hour.i will build a model for such a prediction.\n",
    "\n",
    "The RMSE metric on the test set should not be more than 48.\n",
    "\n",
    "# What i will do:\n",
    "\n",
    "1. Download the data and resample it by one hour.\n",
    "2. Analyze the data.\n",
    "3. Train different models with different hyperparameters. The test sample should be 10% of the initial dataset. \n",
    "4. Test the data using the test sample and provide a conclusion.\n",
    "\n",
    "# Data description\n",
    "\n",
    "The data is stored in file `taxi.csv`. The number of orders is in the '*num_orders*' column."
   ]
  },
  {
   "cell_type": "markdown",
   "metadata": {},
   "source": [
    "## Preparation"
   ]
  },
  {
   "cell_type": "code",
   "execution_count": 5,
   "metadata": {},
   "outputs": [
    {
     "name": "stdout",
     "output_type": "stream",
     "text": [
      "Collecting xgboost\n",
      "  Downloading xgboost-1.6.1-py3-none-macosx_10_15_x86_64.macosx_11_0_x86_64.macosx_12_0_x86_64.whl (1.7 MB)\n",
      "\u001b[K     |████████████████████████████████| 1.7 MB 856 kB/s eta 0:00:01\n",
      "\u001b[?25hRequirement already satisfied: numpy in /Users/yaakovkarsenty/opt/anaconda3/lib/python3.8/site-packages (from xgboost) (1.20.1)\n",
      "Requirement already satisfied: scipy in /Users/yaakovkarsenty/opt/anaconda3/lib/python3.8/site-packages (from xgboost) (1.6.2)\n",
      "Installing collected packages: xgboost\n",
      "Successfully installed xgboost-1.6.1\n",
      "Note: you may need to restart the kernel to use updated packages.\n"
     ]
    }
   ],
   "source": [
    "pip install xgboost"
   ]
  },
  {
   "cell_type": "code",
   "execution_count": 6,
   "metadata": {},
   "outputs": [],
   "source": [
    "#Loading all the libraries i will use:\n",
    "import pandas as pd\n",
    "import numpy as np\n",
    "import datetime\n",
    "import warnings\n",
    "warnings.filterwarnings(\"ignore\")\n",
    "import requests \n",
    "import io\n",
    "from sklearn.model_selection import train_test_split\n",
    "from sklearn import linear_model, decomposition, datasets\n",
    "from sklearn.utils import shuffle\n",
    "from sklearn.ensemble import RandomForestRegressor\n",
    "from sklearn.metrics import mean_absolute_error\n",
    "import matplotlib.pyplot as plt\n",
    "from statsmodels.tsa.seasonal import seasonal_decompose\n",
    "from sklearn.metrics import mean_absolute_error, mean_squared_error\n",
    "from sklearn.linear_model import LinearRegression\n",
    "from IPython import display\n",
    "from IPython.display import Image\n",
    "import sklearn.linear_model\n",
    "import sklearn.metrics\n",
    "import sklearn.neighbors\n",
    "import sklearn.preprocessing\n",
    "from xgboost import XGBRegressor\n",
    "import math\n"
   ]
  },
  {
   "cell_type": "code",
   "execution_count": 11,
   "metadata": {
    "scrolled": false
   },
   "outputs": [
    {
     "data": {
      "text/html": [
       "<div>\n",
       "<style scoped>\n",
       "    .dataframe tbody tr th:only-of-type {\n",
       "        vertical-align: middle;\n",
       "    }\n",
       "\n",
       "    .dataframe tbody tr th {\n",
       "        vertical-align: top;\n",
       "    }\n",
       "\n",
       "    .dataframe thead th {\n",
       "        text-align: right;\n",
       "    }\n",
       "</style>\n",
       "<table border=\"1\" class=\"dataframe\">\n",
       "  <thead>\n",
       "    <tr style=\"text-align: right;\">\n",
       "      <th></th>\n",
       "      <th>num_orders</th>\n",
       "    </tr>\n",
       "    <tr>\n",
       "      <th>datetime</th>\n",
       "      <th></th>\n",
       "    </tr>\n",
       "  </thead>\n",
       "  <tbody>\n",
       "    <tr>\n",
       "      <th>2018-03-01 00:00:00</th>\n",
       "      <td>9</td>\n",
       "    </tr>\n",
       "    <tr>\n",
       "      <th>2018-03-01 00:10:00</th>\n",
       "      <td>14</td>\n",
       "    </tr>\n",
       "    <tr>\n",
       "      <th>2018-03-01 00:20:00</th>\n",
       "      <td>28</td>\n",
       "    </tr>\n",
       "    <tr>\n",
       "      <th>2018-03-01 00:30:00</th>\n",
       "      <td>20</td>\n",
       "    </tr>\n",
       "    <tr>\n",
       "      <th>2018-03-01 00:40:00</th>\n",
       "      <td>32</td>\n",
       "    </tr>\n",
       "    <tr>\n",
       "      <th>2018-03-01 00:50:00</th>\n",
       "      <td>21</td>\n",
       "    </tr>\n",
       "    <tr>\n",
       "      <th>2018-03-01 01:00:00</th>\n",
       "      <td>7</td>\n",
       "    </tr>\n",
       "  </tbody>\n",
       "</table>\n",
       "</div>"
      ],
      "text/plain": [
       "                     num_orders\n",
       "datetime                       \n",
       "2018-03-01 00:00:00           9\n",
       "2018-03-01 00:10:00          14\n",
       "2018-03-01 00:20:00          28\n",
       "2018-03-01 00:30:00          20\n",
       "2018-03-01 00:40:00          32\n",
       "2018-03-01 00:50:00          21\n",
       "2018-03-01 01:00:00           7"
      ]
     },
     "execution_count": 11,
     "metadata": {},
     "output_type": "execute_result"
    }
   ],
   "source": [
    "# Downloading the csv file from my GitHub account\n",
    "\n",
    "url = \"https://raw.githubusercontent.com/yoav-karsenty/Time-series/main/taxi.csv\"\n",
    "download = requests.get(url).content\n",
    "\n",
    "# Reading the downloaded content and turning it into a pandas dataframe\n",
    "\n",
    "taxi = pd.read_csv(io.StringIO(download.decode('utf-8')),index_col=[0], parse_dates=[0])\n",
    "\n",
    "\n",
    "# Exploring the data\n",
    "taxi.head(7)"
   ]
  },
  {
   "cell_type": "code",
   "execution_count": 12,
   "metadata": {
    "scrolled": true
   },
   "outputs": [
    {
     "name": "stdout",
     "output_type": "stream",
     "text": [
      "<class 'pandas.core.frame.DataFrame'>\n",
      "DatetimeIndex: 26496 entries, 2018-03-01 00:00:00 to 2018-08-31 23:50:00\n",
      "Data columns (total 1 columns):\n",
      " #   Column      Non-Null Count  Dtype\n",
      "---  ------      --------------  -----\n",
      " 0   num_orders  26496 non-null  int64\n",
      "dtypes: int64(1)\n",
      "memory usage: 414.0 KB\n"
     ]
    }
   ],
   "source": [
    "#getting more info about the data \n",
    "taxi.info()"
   ]
  },
  {
   "cell_type": "code",
   "execution_count": 13,
   "metadata": {},
   "outputs": [
    {
     "name": "stdout",
     "output_type": "stream",
     "text": [
      "\n",
      "Is the Taxi index having duplicate values?\n",
      " False\n"
     ]
    }
   ],
   "source": [
    "# Check if the index is having duplicate values\n",
    "print(\"\\nIs the Taxi index having duplicate values?\\n\",taxi.index.has_duplicates)"
   ]
  },
  {
   "cell_type": "code",
   "execution_count": 14,
   "metadata": {
    "scrolled": true
   },
   "outputs": [
    {
     "data": {
      "text/html": [
       "<div>\n",
       "<style scoped>\n",
       "    .dataframe tbody tr th:only-of-type {\n",
       "        vertical-align: middle;\n",
       "    }\n",
       "\n",
       "    .dataframe tbody tr th {\n",
       "        vertical-align: top;\n",
       "    }\n",
       "\n",
       "    .dataframe thead th {\n",
       "        text-align: right;\n",
       "    }\n",
       "</style>\n",
       "<table border=\"1\" class=\"dataframe\">\n",
       "  <thead>\n",
       "    <tr style=\"text-align: right;\">\n",
       "      <th></th>\n",
       "      <th>num_orders</th>\n",
       "    </tr>\n",
       "    <tr>\n",
       "      <th>datetime</th>\n",
       "      <th></th>\n",
       "    </tr>\n",
       "  </thead>\n",
       "  <tbody>\n",
       "    <tr>\n",
       "      <th>2018-03-01 00:00:00</th>\n",
       "      <td>9</td>\n",
       "    </tr>\n",
       "    <tr>\n",
       "      <th>2018-03-01 00:10:00</th>\n",
       "      <td>14</td>\n",
       "    </tr>\n",
       "    <tr>\n",
       "      <th>2018-03-01 00:20:00</th>\n",
       "      <td>28</td>\n",
       "    </tr>\n",
       "    <tr>\n",
       "      <th>2018-03-01 00:30:00</th>\n",
       "      <td>20</td>\n",
       "    </tr>\n",
       "    <tr>\n",
       "      <th>2018-03-01 00:40:00</th>\n",
       "      <td>32</td>\n",
       "    </tr>\n",
       "    <tr>\n",
       "      <th>2018-03-01 00:50:00</th>\n",
       "      <td>21</td>\n",
       "    </tr>\n",
       "    <tr>\n",
       "      <th>2018-03-01 01:00:00</th>\n",
       "      <td>7</td>\n",
       "    </tr>\n",
       "    <tr>\n",
       "      <th>2018-03-01 01:10:00</th>\n",
       "      <td>5</td>\n",
       "    </tr>\n",
       "    <tr>\n",
       "      <th>2018-03-01 01:20:00</th>\n",
       "      <td>17</td>\n",
       "    </tr>\n",
       "    <tr>\n",
       "      <th>2018-03-01 01:30:00</th>\n",
       "      <td>12</td>\n",
       "    </tr>\n",
       "    <tr>\n",
       "      <th>2018-03-01 01:40:00</th>\n",
       "      <td>19</td>\n",
       "    </tr>\n",
       "    <tr>\n",
       "      <th>2018-03-01 01:50:00</th>\n",
       "      <td>25</td>\n",
       "    </tr>\n",
       "  </tbody>\n",
       "</table>\n",
       "</div>"
      ],
      "text/plain": [
       "                     num_orders\n",
       "datetime                       \n",
       "2018-03-01 00:00:00           9\n",
       "2018-03-01 00:10:00          14\n",
       "2018-03-01 00:20:00          28\n",
       "2018-03-01 00:30:00          20\n",
       "2018-03-01 00:40:00          32\n",
       "2018-03-01 00:50:00          21\n",
       "2018-03-01 01:00:00           7\n",
       "2018-03-01 01:10:00           5\n",
       "2018-03-01 01:20:00          17\n",
       "2018-03-01 01:30:00          12\n",
       "2018-03-01 01:40:00          19\n",
       "2018-03-01 01:50:00          25"
      ]
     },
     "execution_count": 14,
     "metadata": {},
     "output_type": "execute_result"
    }
   ],
   "source": [
    "taxi.sort_index(inplace=True)\n",
    "taxi.head(12)"
   ]
  },
  {
   "cell_type": "code",
   "execution_count": 15,
   "metadata": {},
   "outputs": [
    {
     "data": {
      "text/html": [
       "<div>\n",
       "<style scoped>\n",
       "    .dataframe tbody tr th:only-of-type {\n",
       "        vertical-align: middle;\n",
       "    }\n",
       "\n",
       "    .dataframe tbody tr th {\n",
       "        vertical-align: top;\n",
       "    }\n",
       "\n",
       "    .dataframe thead th {\n",
       "        text-align: right;\n",
       "    }\n",
       "</style>\n",
       "<table border=\"1\" class=\"dataframe\">\n",
       "  <thead>\n",
       "    <tr style=\"text-align: right;\">\n",
       "      <th></th>\n",
       "      <th>num_orders</th>\n",
       "    </tr>\n",
       "    <tr>\n",
       "      <th>datetime</th>\n",
       "      <th></th>\n",
       "    </tr>\n",
       "  </thead>\n",
       "  <tbody>\n",
       "    <tr>\n",
       "      <th>2018-03-01 00:00:00</th>\n",
       "      <td>124</td>\n",
       "    </tr>\n",
       "    <tr>\n",
       "      <th>2018-03-01 01:00:00</th>\n",
       "      <td>85</td>\n",
       "    </tr>\n",
       "    <tr>\n",
       "      <th>2018-03-01 02:00:00</th>\n",
       "      <td>71</td>\n",
       "    </tr>\n",
       "    <tr>\n",
       "      <th>2018-03-01 03:00:00</th>\n",
       "      <td>66</td>\n",
       "    </tr>\n",
       "    <tr>\n",
       "      <th>2018-03-01 04:00:00</th>\n",
       "      <td>43</td>\n",
       "    </tr>\n",
       "  </tbody>\n",
       "</table>\n",
       "</div>"
      ],
      "text/plain": [
       "                     num_orders\n",
       "datetime                       \n",
       "2018-03-01 00:00:00         124\n",
       "2018-03-01 01:00:00          85\n",
       "2018-03-01 02:00:00          71\n",
       "2018-03-01 03:00:00          66\n",
       "2018-03-01 04:00:00          43"
      ]
     },
     "execution_count": 15,
     "metadata": {},
     "output_type": "execute_result"
    }
   ],
   "source": [
    "#Resampling the data to 1 hour \n",
    "taxi = taxi.resample('1h').sum()\n",
    "taxi.head()"
   ]
  },
  {
   "cell_type": "markdown",
   "metadata": {},
   "source": [
    "## Analysis"
   ]
  },
  {
   "cell_type": "code",
   "execution_count": 16,
   "metadata": {},
   "outputs": [
    {
     "data": {
      "text/plain": [
       "Timestamp('2018-08-31 23:00:00', freq='H')"
      ]
     },
     "execution_count": 16,
     "metadata": {},
     "output_type": "execute_result"
    }
   ],
   "source": [
    "taxi.index.max()"
   ]
  },
  {
   "cell_type": "code",
   "execution_count": 17,
   "metadata": {
    "scrolled": true
   },
   "outputs": [
    {
     "data": {
      "text/plain": [
       "<AxesSubplot:xlabel='datetime'>"
      ]
     },
     "execution_count": 17,
     "metadata": {},
     "output_type": "execute_result"
    },
    {
     "data": {
      "image/png": "[encoded data removed]",
      "text/plain": [
       "<Figure size 432x288 with 1 Axes>"
      ]
     },
     "metadata": {
      "needs_background": "light"
     },
     "output_type": "display_data"
    }
   ],
   "source": [
    "#Plotting the data \n",
    "taxi.plot()"
   ]
  },
  {
   "cell_type": "code",
   "execution_count": 18,
   "metadata": {},
   "outputs": [],
   "source": [
    "#slicing the data so i could analyse it more clearly \n",
    "taxi_plot = taxi['2018-03-01':'2018-03-15']"
   ]
  },
  {
   "cell_type": "code",
   "execution_count": 19,
   "metadata": {
    "scrolled": false
   },
   "outputs": [
    {
     "data": {
      "text/plain": [
       "[<matplotlib.lines.Line2D at 0x7ff4d21014c0>,\n",
       " <matplotlib.lines.Line2D at 0x7ff4d2080a00>,\n",
       " <matplotlib.lines.Line2D at 0x7ff4d2080940>]"
      ]
     },
     "execution_count": 19,
     "metadata": {},
     "output_type": "execute_result"
    },
    {
     "data": {
      "image/png": "[encoded data removed]",
      "text/plain": [
       "<Figure size 1440x720 with 1 Axes>"
      ]
     },
     "metadata": {
      "needs_background": "light"
     },
     "output_type": "display_data"
    }
   ],
   "source": [
    "#Adding the the moving average and std to the plot\n",
    "taxi_plot['mean'] = taxi_plot['num_orders'].rolling(20).mean()\n",
    "taxi_plot['std'] = taxi_plot['num_orders'].rolling(20).std()\n",
    "\n",
    "fig = plt.figure(figsize=(20, 10))\n",
    "ax1 = fig.add_subplot(111)\n",
    "ax1.plot(taxi_plot)"
   ]
  },
  {
   "cell_type": "markdown",
   "metadata": {},
   "source": [
    " it looks like this time series is stationary. It does not depend on time, and it does not change so much."
   ]
  },
  {
   "cell_type": "markdown",
   "metadata": {},
   "source": [
    "Next, i want to see the Seasonality of the data, and see if therre are any patterns"
   ]
  },
  {
   "cell_type": "code",
   "execution_count": 39,
   "metadata": {},
   "outputs": [],
   "source": [
    "\n",
    "decomposed = seasonal_decompose(taxi)"
   ]
  },
  {
   "cell_type": "code",
   "execution_count": 40,
   "metadata": {
    "scrolled": false
   },
   "outputs": [
    {
     "data": {
      "image/png": "[encoded data removed]",
      "text/plain": [
       "<Figure size 1224x360 with 1 Axes>"
      ]
     },
     "metadata": {
      "needs_background": "light"
     },
     "output_type": "display_data"
    }
   ],
   "source": [
    "Y = decomposed.seasonal['2018-06-01':'2018-06-03'].values\n",
    "x = decomposed.seasonal['2018-06-01':'2018-06-03'].index\n",
    "\n",
    "fig = plt.figure(figsize=(17, 5))\n",
    "ax1 = fig.add_subplot(111)\n",
    "ax1.set_xlim(min(x), max(x))\n",
    "\n",
    "ax1.set_xticks(x)\n",
    "ax1.set_xticklabels(x.strftime('%H'));\n",
    "\n",
    "ax1.plot(x, Y)\n",
    "plt.title('Seasonality')\n",
    "plt.xticks(rotation = 60)\n",
    "plt.show()\n"
   ]
  },
  {
   "cell_type": "markdown",
   "metadata": {},
   "source": [
    "We can see there are clearly some patterns. The high peaks are around 16:00 and 00:00 and the low peaks are arounf 06:00, 12:00 and 18:00. some possible reasons could be traffic to the airport, preffered flight times, and maybe times that is less convenient for some people to pick up their friends or family from the airport - the middle of the night, during work, etc.."
   ]
  },
  {
   "cell_type": "markdown",
   "metadata": {},
   "source": [
    "## Training"
   ]
  },
  {
   "cell_type": "markdown",
   "metadata": {},
   "source": [
    "Next, I will train different models and see if ican get a model to score less than 48 RMSE. "
   ]
  },
  {
   "cell_type": "code",
   "execution_count": 43,
   "metadata": {},
   "outputs": [],
   "source": [
    "#spliting the data into training set and test set \n",
    "train, test = train_test_split(taxi, shuffle=False, test_size=0.1)\n",
    "train = train.dropna()\n",
    "train_y = train['num_orders']\n",
    "train_x = train.drop('num_orders', axis=1)\n",
    "test_y = test['num_orders']\n",
    "test_x = test.drop('num_orders', axis=1)"
   ]
  },
  {
   "cell_type": "code",
   "execution_count": 44,
   "metadata": {},
   "outputs": [
    {
     "name": "stdout",
     "output_type": "stream",
     "text": [
      "MAE: 70.7918552036199\n",
      "RMSE: 87.15277582981295\n"
     ]
    }
   ],
   "source": [
    "#Creating a sanit model that always predicts the median \n",
    "pred_median = np.ones(test_y.shape) * train_y.median()\n",
    "print('MAE:', mean_absolute_error(test_y, pred_median))\n",
    "print('RMSE:', math.sqrt(mean_squared_error(test_y, pred_median)))"
   ]
  },
  {
   "cell_type": "markdown",
   "metadata": {},
   "source": [
    "As expected, this model doesnt perform as well as we need. Next i will try a model that predicts using the previous value. "
   ]
  },
  {
   "cell_type": "code",
   "execution_count": 45,
   "metadata": {},
   "outputs": [
    {
     "name": "stdout",
     "output_type": "stream",
     "text": [
      "MAE: 44.97285067873303\n",
      "RMSE: 58.856486242815066\n"
     ]
    }
   ],
   "source": [
    "pred_previous = test_y.shift()\n",
    "pred_previous.iloc[0] = train_y.iloc[-1]\n",
    "print('MAE:', mean_absolute_error(test_y, pred_previous))\n",
    "print('RMSE:', math.sqrt(mean_squared_error(test_y, pred_previous)))"
   ]
  },
  {
   "cell_type": "markdown",
   "metadata": {},
   "source": [
    "Better, but still not good enough. I will now add more features to the data and try to train LinearRegression,RandomForestRegressor and XGBRegressor models. "
   ]
  },
  {
   "cell_type": "code",
   "execution_count": 46,
   "metadata": {},
   "outputs": [],
   "source": [
    "# A function that creates more features based on the data\n",
    "def make_features(data, max_lag, rolling_mean_size):\n",
    "    data['hour'] = data.index.hour\n",
    "    data['month'] = data.index.month\n",
    "    data['day'] = data.index.day\n",
    "    data['dayofweek'] = data.index.dayofweek\n",
    "    \n",
    "    for lag in range(1, max_lag + 1):\n",
    "        data['lag_{}'.format(lag)] = data['num_orders'].shift(lag)\n",
    "\n",
    "    data['rolling_mean'] = data['rolling_mean'] = data['num_orders'].shift().rolling(rolling_mean_size).mean()\n",
    "    return data"
   ]
  },
  {
   "cell_type": "code",
   "execution_count": 19,
   "metadata": {
    "scrolled": true
   },
   "outputs": [
    {
     "name": "stdout",
     "output_type": "stream",
     "text": [
      "The best RMSE score: 30.24428691634277 Best I :  48 best_j :  22\n"
     ]
    }
   ],
   "source": [
    "# Tuning model performance based on the make_features arguments.\n",
    "best_model = None\n",
    "best_result = 60\n",
    "best_i = 0\n",
    "best_j = 0\n",
    "\n",
    "for i in range(1,50):\n",
    "    for j in range(1,50):\n",
    "        taxi_feat = make_features(taxi, i, j)\n",
    "        train, test = train_test_split(taxi_feat, shuffle=False, test_size=0.1)\n",
    "        train,val = train_test_split(train, shuffle=False, test_size=0.2)\n",
    "        train = train.dropna()\n",
    "        train_y = train['num_orders']\n",
    "        train_x = train.drop('num_orders', axis=1)\n",
    "        val_y = val['num_orders']\n",
    "        val_x = val.drop('num_orders',axis = 1)\n",
    "        test_y = test['num_orders']\n",
    "        test_x = test.drop('num_orders', axis=1)\n",
    "        model = LinearRegression()\n",
    "        model.fit(train_x, train_y)\n",
    "        y_pred = model.predict(val_x)\n",
    "        mse = mean_squared_error(val_y, y_pred)\n",
    "        rmse = mse**(0.5)\n",
    "        if rmse < best_result: \n",
    "            \n",
    "            best_result = rmse\n",
    "            best_i = i\n",
    "            best_j = j\n",
    "print(\"The best RMSE score:\",best_result,\"Best I : \",best_i,\"best_j : \",best_j)"
   ]
  },
  {
   "cell_type": "code",
   "execution_count": 47,
   "metadata": {},
   "outputs": [],
   "source": [
    "taxi_feat = make_features(taxi, 48, 22)"
   ]
  },
  {
   "cell_type": "code",
   "execution_count": 48,
   "metadata": {},
   "outputs": [],
   "source": [
    "train, test = train_test_split(taxi_feat, shuffle=False, test_size=0.1)\n",
    "train,val = train_test_split(train, shuffle=False, test_size=0.2)\n",
    "\n",
    "val_y = val['num_orders']\n",
    "val_x = val.drop('num_orders',axis = 1)\n",
    "        \n",
    "train = train.dropna()\n",
    "train_y = train['num_orders']\n",
    "train_x = train.drop('num_orders', axis=1)\n",
    "test_y = test['num_orders']\n",
    "test_x = test.drop('num_orders', axis=1)"
   ]
  },
  {
   "cell_type": "code",
   "execution_count": 49,
   "metadata": {},
   "outputs": [],
   "source": [
    "model = LinearRegression()\n",
    "model.fit(train_x, train_y)\n",
    "pred_train = model.predict(train_x)\n",
    "pred_test = model.predict(val_x)"
   ]
  },
  {
   "cell_type": "code",
   "execution_count": 50,
   "metadata": {
    "scrolled": true
   },
   "outputs": [
    {
     "name": "stdout",
     "output_type": "stream",
     "text": [
      "MAE for the training set: 16.370060177948787\n",
      "MAE on test:  22.682205772984762\n",
      "RMSE on test: 30.344513334822366\n"
     ]
    }
   ],
   "source": [
    "print(\"MAE for the training set:\", mean_absolute_error(train_y, pred_train))\n",
    "print(\"MAE on val: \", mean_absolute_error(val_y, pred_test))\n",
    "print('RMSE on val:', math.sqrt(mean_squared_error(val_y, pred_test)))"
   ]
  },
  {
   "cell_type": "markdown",
   "metadata": {},
   "source": [
    "Now we got a result that is good for us with 30.34 RMSE on the val set. I want to see if i can improve that. "
   ]
  },
  {
   "cell_type": "code",
   "execution_count": 51,
   "metadata": {
    "scrolled": true
   },
   "outputs": [
    {
     "name": "stdout",
     "output_type": "stream",
     "text": [
      "The best RMSE score: 31.37679963453753 Best est :  64 best_depth :  15\n"
     ]
    }
   ],
   "source": [
    "# Training RandomForestRegressor and using a loop to get the best parameters. \n",
    "best_model = None\n",
    "best_result = 60\n",
    "best_est = 0\n",
    "best_depth = 0\n",
    "est_list = [1, 2, 4, 8, 16, 32, 64, 100]\n",
    "for est in est_list:\n",
    "    for depth in range (1, 30,2):\n",
    "        model = RandomForestRegressor(random_state=54321, n_estimators=est,max_depth = depth ) \n",
    "        model.fit(train_x,train_y) \n",
    "        y_pred = model.predict(val_x)\n",
    "        \n",
    "        mse = mean_squared_error(val_y, y_pred)\n",
    "        rmse = mse**(0.5)\n",
    "        if rmse < best_result: \n",
    "            \n",
    "            best_result = rmse\n",
    "            best_est = est\n",
    "            best_depth = depth\n",
    "print(\"The best RMSE score:\",best_result,\"Best est : \",best_est,\"best_depth : \",best_depth)\n",
    " "
   ]
  },
  {
   "cell_type": "code",
   "execution_count": 52,
   "metadata": {},
   "outputs": [],
   "source": [
    "x_model = XGBRegressor(n_estimators = 100,max_depth = 39,random_state = 12345 )\n"
   ]
  },
  {
   "cell_type": "code",
   "execution_count": 53,
   "metadata": {},
   "outputs": [
    {
     "data": {
      "text/plain": [
       "XGBRegressor(base_score=0.5, booster='gbtree', colsample_bylevel=1,\n",
       "             colsample_bynode=1, colsample_bytree=1, enable_categorical=False,\n",
       "             gamma=0, gpu_id=-1, importance_type=None,\n",
       "             interaction_constraints='', learning_rate=0.300000012,\n",
       "             max_delta_step=0, max_depth=39, min_child_weight=1, missing=nan,\n",
       "             monotone_constraints='()', n_estimators=100, n_jobs=8,\n",
       "             num_parallel_tree=1, predictor='auto', random_state=12345,\n",
       "             reg_alpha=0, reg_lambda=1, scale_pos_weight=1, subsample=1,\n",
       "             tree_method='exact', validate_parameters=1, verbosity=None)"
      ]
     },
     "execution_count": 53,
     "metadata": {},
     "output_type": "execute_result"
    }
   ],
   "source": [
    "x_model.fit(train_x, train_y)"
   ]
  },
  {
   "cell_type": "code",
   "execution_count": 54,
   "metadata": {},
   "outputs": [
    {
     "data": {
      "text/plain": [
       "37.098273811384104"
      ]
     },
     "execution_count": 54,
     "metadata": {},
     "output_type": "execute_result"
    }
   ],
   "source": [
    "xgbr_pred = x_model.predict(val_x)\n",
    "mse = mean_squared_error(val_y, xgbr_pred)\n",
    "rmse = mse**(0.5)\n",
    "rmse"
   ]
  },
  {
   "cell_type": "markdown",
   "metadata": {},
   "source": [
    "The best score we got was with the LinearRegression model, so next i will test that model using the test set "
   ]
  },
  {
   "cell_type": "markdown",
   "metadata": {},
   "source": [
    "# Testing"
   ]
  },
  {
   "cell_type": "code",
   "execution_count": 55,
   "metadata": {},
   "outputs": [],
   "source": [
    "model = LinearRegression()\n",
    "model.fit(train_x, train_y)\n",
    "pred_train = model.predict(train_x)\n",
    "pred_test = model.predict(test_x)"
   ]
  },
  {
   "cell_type": "code",
   "execution_count": 57,
   "metadata": {},
   "outputs": [
    {
     "name": "stdout",
     "output_type": "stream",
     "text": [
      "MAE for the training set: 16.370060177948787\n",
      "MAE on test:  33.96922808745876\n",
      "RMSE on test: 45.686277172004715\n"
     ]
    }
   ],
   "source": [
    "print(\"MAE for the training set:\", mean_absolute_error(train_y, pred_train))\n",
    "print(\"MAE on test: \", mean_absolute_error(test_y, pred_test))\n",
    "print('RMSE on test:', math.sqrt(mean_squared_error(test_y, pred_test)))"
   ]
  },
  {
   "cell_type": "markdown",
   "metadata": {},
   "source": [
    "# Conclusions\n"
   ]
  },
  {
   "cell_type": "markdown",
   "metadata": {},
   "source": [
    "In this project, i have analysed data from sweet lift taxi company, in order to train a model the can score less than 48 RMSE. \n",
    "\n",
    "\n",
    "The most efficient model i trained was :\n",
    "    LinearRegression , using the make_features function with these parameters - make_features(taxi, 48, 22)\n",
    "    \n",
    "    \n",
    "    \n",
    "    \n",
    "This models RMSE on the test set is is 45.68. "
   ]
  }
 ],
 "metadata": {
  "ExecuteTimeLog": [
   {
    "duration": 45,
    "start_time": "2022-08-11T09:38:27.566Z"
   },
   {
    "duration": 1668,
    "start_time": "2022-08-11T09:42:00.185Z"
   },
   {
    "duration": 108,
    "start_time": "2022-08-11T09:42:01.855Z"
   },
   {
    "duration": 81,
    "start_time": "2022-08-11T09:42:08.157Z"
   },
   {
    "duration": 47,
    "start_time": "2022-08-11T09:42:11.823Z"
   },
   {
    "duration": 63,
    "start_time": "2022-08-11T09:42:15.541Z"
   },
   {
    "duration": 15,
    "start_time": "2022-08-11T09:42:21.994Z"
   },
   {
    "duration": 14,
    "start_time": "2022-08-11T09:42:23.226Z"
   },
   {
    "duration": 14,
    "start_time": "2022-08-11T09:42:25.198Z"
   },
   {
    "duration": 35,
    "start_time": "2022-08-11T09:42:46.389Z"
   },
   {
    "duration": 15,
    "start_time": "2022-08-11T09:42:49.002Z"
   },
   {
    "duration": 14,
    "start_time": "2022-08-11T09:42:51.060Z"
   },
   {
    "duration": 14,
    "start_time": "2022-08-11T09:42:56.297Z"
   },
   {
    "duration": 14,
    "start_time": "2022-08-11T09:42:58.484Z"
   },
   {
    "duration": 36,
    "start_time": "2022-08-11T09:43:37.495Z"
   },
   {
    "duration": 1467,
    "start_time": "2022-08-11T10:08:41.774Z"
   },
   {
    "duration": 81,
    "start_time": "2022-08-11T10:08:44.180Z"
   },
   {
    "duration": 117,
    "start_time": "2022-08-11T10:09:20.700Z"
   },
   {
    "duration": 47,
    "start_time": "2022-08-11T10:09:28.740Z"
   },
   {
    "duration": 13,
    "start_time": "2022-08-11T10:09:50.095Z"
   },
   {
    "duration": 1431,
    "start_time": "2022-08-11T10:11:52.837Z"
   },
   {
    "duration": 160,
    "start_time": "2022-08-11T10:11:54.270Z"
   },
   {
    "duration": 55,
    "start_time": "2022-08-11T10:12:05.247Z"
   },
   {
    "duration": 4,
    "start_time": "2022-08-11T10:13:53.554Z"
   },
   {
    "duration": 7,
    "start_time": "2022-08-11T10:14:05.271Z"
   },
   {
    "duration": 9,
    "start_time": "2022-08-11T10:15:13.815Z"
   },
   {
    "duration": 13,
    "start_time": "2022-08-11T10:15:23.239Z"
   },
   {
    "duration": 4,
    "start_time": "2022-08-11T10:28:36.878Z"
   },
   {
    "duration": 48,
    "start_time": "2022-08-11T10:28:37.032Z"
   },
   {
    "duration": 11,
    "start_time": "2022-08-11T10:28:37.209Z"
   },
   {
    "duration": 8,
    "start_time": "2022-08-11T10:28:37.357Z"
   },
   {
    "duration": 11,
    "start_time": "2022-08-11T10:28:37.535Z"
   },
   {
    "duration": 206,
    "start_time": "2022-08-11T10:29:04.952Z"
   },
   {
    "duration": 5,
    "start_time": "2022-08-11T10:29:47.012Z"
   },
   {
    "duration": 3,
    "start_time": "2022-08-11T10:30:42.935Z"
   },
   {
    "duration": 940,
    "start_time": "2022-08-11T10:31:13.310Z"
   },
   {
    "duration": 331,
    "start_time": "2022-08-11T10:31:25.119Z"
   },
   {
    "duration": 649,
    "start_time": "2022-08-11T10:32:26.906Z"
   },
   {
    "duration": 163,
    "start_time": "2022-08-11T10:32:35.018Z"
   },
   {
    "duration": 367,
    "start_time": "2022-08-11T10:32:41.871Z"
   },
   {
    "duration": 1277,
    "start_time": "2022-08-11T10:32:48.258Z"
   },
   {
    "duration": 4,
    "start_time": "2022-08-11T10:33:16.110Z"
   },
   {
    "duration": 48,
    "start_time": "2022-08-11T10:33:16.406Z"
   },
   {
    "duration": 10,
    "start_time": "2022-08-11T10:33:16.492Z"
   },
   {
    "duration": 7,
    "start_time": "2022-08-11T10:33:16.672Z"
   },
   {
    "duration": 10,
    "start_time": "2022-08-11T10:33:16.938Z"
   },
   {
    "duration": 4,
    "start_time": "2022-08-11T10:33:17.514Z"
   },
   {
    "duration": 200,
    "start_time": "2022-08-11T10:33:17.688Z"
   },
   {
    "duration": 70,
    "start_time": "2022-08-11T10:33:17.913Z"
   },
   {
    "duration": 1270,
    "start_time": "2022-08-11T10:33:18.413Z"
   },
   {
    "duration": 7,
    "start_time": "2022-08-11T10:34:31.442Z"
   },
   {
    "duration": 1258,
    "start_time": "2022-08-11T10:34:32.565Z"
   },
   {
    "duration": 55,
    "start_time": "2022-08-11T10:34:41.963Z"
   },
   {
    "duration": 480,
    "start_time": "2022-08-11T10:34:43.995Z"
   },
   {
    "duration": 346,
    "start_time": "2022-08-11T10:34:50.809Z"
   },
   {
    "duration": 369,
    "start_time": "2022-08-11T10:37:19.919Z"
   },
   {
    "duration": 298,
    "start_time": "2022-08-11T10:37:27.622Z"
   },
   {
    "duration": 17,
    "start_time": "2022-08-11T10:37:34.495Z"
   },
   {
    "duration": 16,
    "start_time": "2022-08-11T10:37:43.998Z"
   },
   {
    "duration": 187,
    "start_time": "2022-08-11T10:38:01.250Z"
   },
   {
    "duration": 17,
    "start_time": "2022-08-11T10:38:13.166Z"
   },
   {
    "duration": 16,
    "start_time": "2022-08-11T10:38:16.697Z"
   },
   {
    "duration": 166,
    "start_time": "2022-08-11T10:38:20.408Z"
   },
   {
    "duration": 399,
    "start_time": "2022-08-11T10:38:26.575Z"
   },
   {
    "duration": 125,
    "start_time": "2022-08-11T10:38:43.601Z"
   },
   {
    "duration": 308,
    "start_time": "2022-08-11T10:38:47.451Z"
   },
   {
    "duration": 14,
    "start_time": "2022-08-11T10:39:17.686Z"
   },
   {
    "duration": 303,
    "start_time": "2022-08-11T10:39:26.477Z"
   },
   {
    "duration": 5,
    "start_time": "2022-08-11T10:43:24.014Z"
   },
   {
    "duration": 312,
    "start_time": "2022-08-11T10:43:24.651Z"
   },
   {
    "duration": 317,
    "start_time": "2022-08-11T10:43:41.770Z"
   },
   {
    "duration": 330,
    "start_time": "2022-08-11T10:45:35.454Z"
   },
   {
    "duration": 5,
    "start_time": "2022-08-11T10:45:51.319Z"
   },
   {
    "duration": 261,
    "start_time": "2022-08-11T10:45:51.744Z"
   },
   {
    "duration": 4,
    "start_time": "2022-08-11T10:46:13.490Z"
   },
   {
    "duration": 265,
    "start_time": "2022-08-11T10:46:14.106Z"
   },
   {
    "duration": 277,
    "start_time": "2022-08-11T10:46:33.654Z"
   },
   {
    "duration": 5,
    "start_time": "2022-08-11T10:46:43.207Z"
   },
   {
    "duration": 333,
    "start_time": "2022-08-11T10:46:43.788Z"
   },
   {
    "duration": 331,
    "start_time": "2022-08-11T10:46:54.279Z"
   },
   {
    "duration": 10,
    "start_time": "2022-08-11T10:48:09.162Z"
   },
   {
    "duration": 73,
    "start_time": "2022-08-11T10:48:38.333Z"
   },
   {
    "duration": 7,
    "start_time": "2022-08-11T10:48:42.608Z"
   },
   {
    "duration": 31247,
    "start_time": "2022-08-11T10:49:51.504Z"
   },
   {
    "duration": 14040,
    "start_time": "2022-08-11T10:51:45.020Z"
   },
   {
    "duration": 13612,
    "start_time": "2022-08-11T10:52:04.738Z"
   },
   {
    "duration": 3340,
    "start_time": "2022-08-11T10:54:02.215Z"
   },
   {
    "duration": 3411,
    "start_time": "2022-08-11T10:54:22.673Z"
   },
   {
    "duration": 359,
    "start_time": "2022-08-11T10:55:45.453Z"
   },
   {
    "duration": 0,
    "start_time": "2022-08-11T10:57:22.658Z"
   },
   {
    "duration": 13885,
    "start_time": "2022-08-11T10:57:24.471Z"
   },
   {
    "duration": 182,
    "start_time": "2022-08-11T10:57:43.877Z"
   },
   {
    "duration": 173,
    "start_time": "2022-08-11T10:57:53.066Z"
   },
   {
    "duration": 179,
    "start_time": "2022-08-11T10:57:59.476Z"
   },
   {
    "duration": 233,
    "start_time": "2022-08-11T10:58:19.650Z"
   },
   {
    "duration": 196,
    "start_time": "2022-08-11T10:58:45.238Z"
   },
   {
    "duration": 218,
    "start_time": "2022-08-11T10:59:20.898Z"
   },
   {
    "duration": 211,
    "start_time": "2022-08-11T10:59:54.835Z"
   },
   {
    "duration": 449,
    "start_time": "2022-08-11T11:00:55.759Z"
   },
   {
    "duration": 233,
    "start_time": "2022-08-11T11:01:01.750Z"
   },
   {
    "duration": 226,
    "start_time": "2022-08-11T11:02:59.249Z"
   },
   {
    "duration": 1294,
    "start_time": "2022-08-11T11:03:14.087Z"
   },
   {
    "duration": 1157,
    "start_time": "2022-08-11T11:03:25.089Z"
   },
   {
    "duration": 1451,
    "start_time": "2022-08-11T11:03:40.754Z"
   },
   {
    "duration": 1527,
    "start_time": "2022-08-11T11:03:56.870Z"
   },
   {
    "duration": 1171,
    "start_time": "2022-08-11T11:04:12.797Z"
   },
   {
    "duration": 1303,
    "start_time": "2022-08-11T11:04:18.969Z"
   },
   {
    "duration": 1623,
    "start_time": "2022-08-11T11:04:26.657Z"
   },
   {
    "duration": 1305,
    "start_time": "2022-08-11T11:04:49.204Z"
   },
   {
    "duration": 1628,
    "start_time": "2022-08-11T11:04:55.351Z"
   },
   {
    "duration": 1409,
    "start_time": "2022-08-11T11:05:20.506Z"
   },
   {
    "duration": 1290,
    "start_time": "2022-08-11T11:05:28.185Z"
   },
   {
    "duration": 5230,
    "start_time": "2022-08-11T11:05:51.921Z"
   },
   {
    "duration": 1285,
    "start_time": "2022-08-11T11:06:33.798Z"
   },
   {
    "duration": 5,
    "start_time": "2022-08-11T11:06:58.304Z"
   },
   {
    "duration": 47,
    "start_time": "2022-08-11T11:06:58.471Z"
   },
   {
    "duration": 10,
    "start_time": "2022-08-11T11:06:58.646Z"
   },
   {
    "duration": 8,
    "start_time": "2022-08-11T11:06:58.826Z"
   },
   {
    "duration": 11,
    "start_time": "2022-08-11T11:06:58.996Z"
   },
   {
    "duration": 4,
    "start_time": "2022-08-11T11:06:59.719Z"
   },
   {
    "duration": 220,
    "start_time": "2022-08-11T11:06:59.899Z"
   },
   {
    "duration": 6,
    "start_time": "2022-08-11T11:07:00.121Z"
   },
   {
    "duration": 347,
    "start_time": "2022-08-11T11:07:00.268Z"
   },
   {
    "duration": 9,
    "start_time": "2022-08-11T11:07:00.631Z"
   },
   {
    "duration": 1386,
    "start_time": "2022-08-11T11:07:00.833Z"
   },
   {
    "duration": 1266,
    "start_time": "2022-08-11T11:07:27.026Z"
   },
   {
    "duration": 1401,
    "start_time": "2022-08-11T11:08:07.281Z"
   },
   {
    "duration": 1059,
    "start_time": "2022-08-11T11:08:31.592Z"
   },
   {
    "duration": 1374,
    "start_time": "2022-08-11T11:08:48.303Z"
   },
   {
    "duration": 1116,
    "start_time": "2022-08-11T11:09:21.351Z"
   },
   {
    "duration": 1118,
    "start_time": "2022-08-11T11:09:31.044Z"
   },
   {
    "duration": 1052,
    "start_time": "2022-08-11T11:09:43.978Z"
   },
   {
    "duration": 1068,
    "start_time": "2022-08-11T11:10:02.750Z"
   },
   {
    "duration": 1008,
    "start_time": "2022-08-11T11:10:09.854Z"
   },
   {
    "duration": 1075,
    "start_time": "2022-08-11T11:10:22.387Z"
   },
   {
    "duration": 1044,
    "start_time": "2022-08-11T11:10:29.140Z"
   },
   {
    "duration": 1000,
    "start_time": "2022-08-11T11:10:36.902Z"
   },
   {
    "duration": 1021,
    "start_time": "2022-08-11T11:10:47.770Z"
   },
   {
    "duration": 982,
    "start_time": "2022-08-11T11:11:06.158Z"
   },
   {
    "duration": 1268,
    "start_time": "2022-08-11T11:11:16.080Z"
   },
   {
    "duration": 1114,
    "start_time": "2022-08-11T11:11:36.398Z"
   },
   {
    "duration": 1121,
    "start_time": "2022-08-11T11:11:46.980Z"
   },
   {
    "duration": 1000,
    "start_time": "2022-08-11T11:11:57.163Z"
   },
   {
    "duration": 815,
    "start_time": "2022-08-11T11:12:18.907Z"
   },
   {
    "duration": 7,
    "start_time": "2022-08-11T13:08:10.540Z"
   },
   {
    "duration": 139,
    "start_time": "2022-08-11T13:08:46.802Z"
   },
   {
    "duration": 7,
    "start_time": "2022-08-11T13:09:26.044Z"
   },
   {
    "duration": 6,
    "start_time": "2022-08-11T13:09:40.126Z"
   },
   {
    "duration": 4,
    "start_time": "2022-08-11T13:09:52.763Z"
   },
   {
    "duration": 1220,
    "start_time": "2022-08-11T13:10:23.241Z"
   },
   {
    "duration": 4,
    "start_time": "2022-08-11T13:10:46.193Z"
   },
   {
    "duration": 13,
    "start_time": "2022-08-11T13:10:46.885Z"
   },
   {
    "duration": 10,
    "start_time": "2022-08-11T13:11:14.681Z"
   },
   {
    "duration": 19,
    "start_time": "2022-08-11T13:11:32.072Z"
   },
   {
    "duration": 4,
    "start_time": "2022-08-11T13:11:33.109Z"
   },
   {
    "duration": 7,
    "start_time": "2022-08-11T13:11:42.617Z"
   },
   {
    "duration": 9,
    "start_time": "2022-08-11T13:14:30.636Z"
   },
   {
    "duration": 6,
    "start_time": "2022-08-11T13:14:30.835Z"
   },
   {
    "duration": 6,
    "start_time": "2022-08-11T13:14:31.011Z"
   },
   {
    "duration": 5,
    "start_time": "2022-08-11T13:14:31.188Z"
   },
   {
    "duration": 8,
    "start_time": "2022-08-11T13:14:31.357Z"
   },
   {
    "duration": 10,
    "start_time": "2022-08-11T13:14:34.894Z"
   },
   {
    "duration": 9,
    "start_time": "2022-08-11T13:14:38.430Z"
   },
   {
    "duration": 24,
    "start_time": "2022-08-11T13:14:38.964Z"
   },
   {
    "duration": 7,
    "start_time": "2022-08-11T13:14:39.364Z"
   },
   {
    "duration": 7950,
    "start_time": "2022-08-11T13:15:03.985Z"
   },
   {
    "duration": 8108,
    "start_time": "2022-08-11T13:16:07.561Z"
   },
   {
    "duration": 257,
    "start_time": "2022-08-11T13:16:41.442Z"
   },
   {
    "duration": 48541,
    "start_time": "2022-08-11T13:17:10.486Z"
   },
   {
    "duration": 11,
    "start_time": "2022-08-11T13:18:14.347Z"
   },
   {
    "duration": 85,
    "start_time": "2022-08-11T13:18:24.053Z"
   },
   {
    "duration": 108,
    "start_time": "2022-08-11T13:18:32.336Z"
   },
   {
    "duration": 3,
    "start_time": "2022-08-11T13:18:36.221Z"
   },
   {
    "duration": 13,
    "start_time": "2022-08-11T13:18:36.760Z"
   },
   {
    "duration": 5954,
    "start_time": "2022-08-11T13:18:47.261Z"
   },
   {
    "duration": 16,
    "start_time": "2022-08-11T13:19:17.238Z"
   },
   {
    "duration": 10,
    "start_time": "2022-08-11T13:19:26.512Z"
   },
   {
    "duration": 3,
    "start_time": "2022-08-11T13:19:41.983Z"
   },
   {
    "duration": 8447,
    "start_time": "2022-08-11T13:19:42.742Z"
   },
   {
    "duration": 10,
    "start_time": "2022-08-11T13:19:52.020Z"
   },
   {
    "duration": 14,
    "start_time": "2022-08-11T13:21:01.037Z"
   },
   {
    "duration": 10,
    "start_time": "2022-08-11T13:21:01.794Z"
   },
   {
    "duration": 17,
    "start_time": "2022-08-11T13:21:02.212Z"
   },
   {
    "duration": 14,
    "start_time": "2022-08-11T13:21:02.547Z"
   },
   {
    "duration": 1593,
    "start_time": "2022-08-11T13:21:34.238Z"
   },
   {
    "duration": 54,
    "start_time": "2022-08-11T13:21:35.833Z"
   },
   {
    "duration": 8,
    "start_time": "2022-08-11T13:21:35.889Z"
   },
   {
    "duration": 14,
    "start_time": "2022-08-11T13:21:35.899Z"
   },
   {
    "duration": 20,
    "start_time": "2022-08-11T13:21:35.914Z"
   },
   {
    "duration": 4,
    "start_time": "2022-08-11T13:21:35.936Z"
   },
   {
    "duration": 290,
    "start_time": "2022-08-11T13:21:35.941Z"
   },
   {
    "duration": 6,
    "start_time": "2022-08-11T13:21:36.232Z"
   },
   {
    "duration": 414,
    "start_time": "2022-08-11T13:21:36.240Z"
   },
   {
    "duration": 6,
    "start_time": "2022-08-11T13:21:36.657Z"
   },
   {
    "duration": 296,
    "start_time": "2022-08-11T13:21:36.664Z"
   },
   {
    "duration": 0,
    "start_time": "2022-08-11T13:21:36.961Z"
   },
   {
    "duration": 0,
    "start_time": "2022-08-11T13:21:36.962Z"
   },
   {
    "duration": 0,
    "start_time": "2022-08-11T13:21:36.963Z"
   },
   {
    "duration": 0,
    "start_time": "2022-08-11T13:21:36.965Z"
   },
   {
    "duration": 0,
    "start_time": "2022-08-11T13:21:36.966Z"
   },
   {
    "duration": 0,
    "start_time": "2022-08-11T13:21:36.967Z"
   },
   {
    "duration": 0,
    "start_time": "2022-08-11T13:21:36.967Z"
   },
   {
    "duration": 0,
    "start_time": "2022-08-11T13:21:36.969Z"
   },
   {
    "duration": 0,
    "start_time": "2022-08-11T13:21:36.969Z"
   },
   {
    "duration": 0,
    "start_time": "2022-08-11T13:21:36.970Z"
   },
   {
    "duration": 0,
    "start_time": "2022-08-11T13:21:36.971Z"
   },
   {
    "duration": 0,
    "start_time": "2022-08-11T13:21:36.972Z"
   },
   {
    "duration": 0,
    "start_time": "2022-08-11T13:21:36.973Z"
   },
   {
    "duration": 9,
    "start_time": "2022-08-11T13:21:58.455Z"
   },
   {
    "duration": 68,
    "start_time": "2022-08-11T13:21:58.641Z"
   },
   {
    "duration": 10,
    "start_time": "2022-08-11T13:21:58.935Z"
   },
   {
    "duration": 6,
    "start_time": "2022-08-11T13:21:59.217Z"
   },
   {
    "duration": 10,
    "start_time": "2022-08-11T13:21:59.476Z"
   },
   {
    "duration": 4,
    "start_time": "2022-08-11T13:22:00.654Z"
   },
   {
    "duration": 192,
    "start_time": "2022-08-11T13:22:01.041Z"
   },
   {
    "duration": 6,
    "start_time": "2022-08-11T13:22:01.379Z"
   },
   {
    "duration": 317,
    "start_time": "2022-08-11T13:22:02.199Z"
   },
   {
    "duration": 8,
    "start_time": "2022-08-11T13:22:03.234Z"
   },
   {
    "duration": 155,
    "start_time": "2022-08-11T13:22:04.709Z"
   },
   {
    "duration": 127,
    "start_time": "2022-08-11T13:22:05.240Z"
   },
   {
    "duration": 8,
    "start_time": "2022-08-11T13:22:06.602Z"
   },
   {
    "duration": 7,
    "start_time": "2022-08-11T13:22:07.189Z"
   },
   {
    "duration": 6,
    "start_time": "2022-08-11T13:22:11.317Z"
   },
   {
    "duration": 3,
    "start_time": "2022-08-11T13:22:14.308Z"
   },
   {
    "duration": 19,
    "start_time": "2022-08-11T13:22:14.936Z"
   },
   {
    "duration": 13,
    "start_time": "2022-08-11T13:22:15.661Z"
   },
   {
    "duration": 10,
    "start_time": "2022-08-11T13:22:16.943Z"
   },
   {
    "duration": 114,
    "start_time": "2022-08-11T13:22:27.296Z"
   },
   {
    "duration": 7,
    "start_time": "2022-08-11T13:22:28.400Z"
   },
   {
    "duration": 9,
    "start_time": "2022-08-11T13:22:33.417Z"
   },
   {
    "duration": 10,
    "start_time": "2022-08-11T13:22:33.911Z"
   },
   {
    "duration": 12,
    "start_time": "2022-08-11T13:22:34.199Z"
   },
   {
    "duration": 6,
    "start_time": "2022-08-11T13:22:34.513Z"
   },
   {
    "duration": 5844,
    "start_time": "2022-08-11T13:22:34.834Z"
   },
   {
    "duration": 7,
    "start_time": "2022-08-11T13:22:45.884Z"
   },
   {
    "duration": 9,
    "start_time": "2022-08-11T13:22:46.284Z"
   },
   {
    "duration": 15,
    "start_time": "2022-08-11T13:22:46.601Z"
   },
   {
    "duration": 6,
    "start_time": "2022-08-11T13:22:47.075Z"
   },
   {
    "duration": 7,
    "start_time": "2022-08-11T13:22:57.653Z"
   },
   {
    "duration": 10,
    "start_time": "2022-08-11T13:22:57.898Z"
   },
   {
    "duration": 13,
    "start_time": "2022-08-11T13:22:58.106Z"
   },
   {
    "duration": 6,
    "start_time": "2022-08-11T13:22:58.302Z"
   },
   {
    "duration": 4,
    "start_time": "2022-08-11T13:23:01.921Z"
   },
   {
    "duration": 8,
    "start_time": "2022-08-11T13:23:02.109Z"
   },
   {
    "duration": 10,
    "start_time": "2022-08-11T13:23:02.288Z"
   },
   {
    "duration": 16,
    "start_time": "2022-08-11T13:23:02.467Z"
   },
   {
    "duration": 6,
    "start_time": "2022-08-11T13:23:02.865Z"
   },
   {
    "duration": 9,
    "start_time": "2022-08-11T13:23:16.381Z"
   },
   {
    "duration": 6,
    "start_time": "2022-08-11T13:23:16.925Z"
   },
   {
    "duration": 5,
    "start_time": "2022-08-11T13:23:17.576Z"
   },
   {
    "duration": 6,
    "start_time": "2022-08-11T13:23:20.801Z"
   },
   {
    "duration": 20,
    "start_time": "2022-08-11T13:23:38.464Z"
   },
   {
    "duration": 10,
    "start_time": "2022-08-11T13:23:57.578Z"
   },
   {
    "duration": 49,
    "start_time": "2022-08-11T13:23:57.760Z"
   },
   {
    "duration": 11,
    "start_time": "2022-08-11T13:23:57.917Z"
   },
   {
    "duration": 8,
    "start_time": "2022-08-11T13:23:58.081Z"
   },
   {
    "duration": 11,
    "start_time": "2022-08-11T13:23:58.229Z"
   },
   {
    "duration": 4,
    "start_time": "2022-08-11T13:23:58.904Z"
   },
   {
    "duration": 190,
    "start_time": "2022-08-11T13:23:59.081Z"
   },
   {
    "duration": 5,
    "start_time": "2022-08-11T13:23:59.273Z"
   },
   {
    "duration": 419,
    "start_time": "2022-08-11T13:23:59.429Z"
   },
   {
    "duration": 6,
    "start_time": "2022-08-11T13:23:59.850Z"
   },
   {
    "duration": 172,
    "start_time": "2022-08-11T13:23:59.977Z"
   },
   {
    "duration": 0,
    "start_time": "2022-08-11T13:24:00.150Z"
   },
   {
    "duration": 8,
    "start_time": "2022-08-11T13:24:01.760Z"
   },
   {
    "duration": 6,
    "start_time": "2022-08-11T13:24:02.322Z"
   },
   {
    "duration": 6,
    "start_time": "2022-08-11T13:24:02.850Z"
   },
   {
    "duration": 4,
    "start_time": "2022-08-11T13:24:03.348Z"
   },
   {
    "duration": 13,
    "start_time": "2022-08-11T13:24:03.995Z"
   },
   {
    "duration": 16,
    "start_time": "2022-08-11T13:24:04.524Z"
   },
   {
    "duration": 10,
    "start_time": "2022-08-11T13:24:06.125Z"
   },
   {
    "duration": 16,
    "start_time": "2022-08-11T13:24:06.791Z"
   },
   {
    "duration": 7,
    "start_time": "2022-08-11T13:24:07.438Z"
   },
   {
    "duration": 7730,
    "start_time": "2022-08-11T13:24:08.149Z"
   },
   {
    "duration": 36717,
    "start_time": "2022-08-11T13:28:30.086Z"
   },
   {
    "duration": 538912,
    "start_time": "2022-08-11T13:29:09.889Z"
   },
   {
    "duration": 15,
    "start_time": "2022-08-11T13:38:38.376Z"
   },
   {
    "duration": 18,
    "start_time": "2022-08-11T13:38:38.833Z"
   },
   {
    "duration": 11,
    "start_time": "2022-08-11T13:38:39.334Z"
   },
   {
    "duration": 17,
    "start_time": "2022-08-11T13:38:39.877Z"
   },
   {
    "duration": 6,
    "start_time": "2022-08-11T13:38:40.496Z"
   },
   {
    "duration": 216286,
    "start_time": "2022-08-11T13:38:41.143Z"
   },
   {
    "duration": 2,
    "start_time": "2022-08-11T13:42:17.431Z"
   },
   {
    "duration": 24281,
    "start_time": "2022-08-11T13:42:17.435Z"
   },
   {
    "duration": 11,
    "start_time": "2022-08-11T13:42:41.719Z"
   },
   {
    "duration": 50,
    "start_time": "2022-08-12T09:46:15.878Z"
   },
   {
    "duration": 1939,
    "start_time": "2022-08-12T09:46:19.923Z"
   },
   {
    "duration": 162,
    "start_time": "2022-08-12T09:46:21.864Z"
   },
   {
    "duration": 13,
    "start_time": "2022-08-12T09:46:22.028Z"
   },
   {
    "duration": 7,
    "start_time": "2022-08-12T09:46:23.284Z"
   },
   {
    "duration": 4,
    "start_time": "2022-08-12T09:48:43.802Z"
   },
   {
    "duration": 3,
    "start_time": "2022-08-12T09:49:04.897Z"
   },
   {
    "duration": 7,
    "start_time": "2022-08-12T09:50:49.991Z"
   },
   {
    "duration": 497,
    "start_time": "2022-08-12T09:50:50.612Z"
   },
   {
    "duration": 426,
    "start_time": "2022-08-12T09:51:23.096Z"
   },
   {
    "duration": 293,
    "start_time": "2022-08-12T09:57:15.502Z"
   },
   {
    "duration": 94,
    "start_time": "2022-08-12T09:59:22.092Z"
   },
   {
    "duration": 12,
    "start_time": "2022-08-12T09:59:25.674Z"
   },
   {
    "duration": 13,
    "start_time": "2022-08-12T09:59:35.347Z"
   },
   {
    "duration": 6,
    "start_time": "2022-08-12T09:59:39.861Z"
   },
   {
    "duration": 57,
    "start_time": "2022-08-12T09:59:40.565Z"
   },
   {
    "duration": 13,
    "start_time": "2022-08-12T09:59:41.030Z"
   },
   {
    "duration": 4,
    "start_time": "2022-08-12T09:59:41.316Z"
   },
   {
    "duration": 9,
    "start_time": "2022-08-12T09:59:41.650Z"
   },
   {
    "duration": 14,
    "start_time": "2022-08-12T09:59:41.950Z"
   },
   {
    "duration": 4,
    "start_time": "2022-08-12T09:59:42.599Z"
   },
   {
    "duration": 258,
    "start_time": "2022-08-12T09:59:42.915Z"
   },
   {
    "duration": 7,
    "start_time": "2022-08-12T09:59:43.231Z"
   },
   {
    "duration": 298,
    "start_time": "2022-08-12T09:59:43.551Z"
   },
   {
    "duration": 249,
    "start_time": "2022-08-12T09:59:45.118Z"
   },
   {
    "duration": 10,
    "start_time": "2022-08-12T09:59:46.576Z"
   },
   {
    "duration": 996,
    "start_time": "2022-08-12T09:59:47.557Z"
   },
   {
    "duration": 950,
    "start_time": "2022-08-12T10:00:22.320Z"
   },
   {
    "duration": 1058,
    "start_time": "2022-08-12T10:00:26.423Z"
   },
   {
    "duration": 118,
    "start_time": "2022-08-12T10:10:51.394Z"
   },
   {
    "duration": 220,
    "start_time": "2022-08-12T10:10:56.498Z"
   },
   {
    "duration": 5,
    "start_time": "2022-08-12T10:12:23.100Z"
   },
   {
    "duration": 5,
    "start_time": "2022-08-12T10:12:26.396Z"
   },
   {
    "duration": 264,
    "start_time": "2022-08-12T10:12:26.925Z"
   },
   {
    "duration": 6,
    "start_time": "2022-08-12T10:12:34.313Z"
   },
   {
    "duration": 281,
    "start_time": "2022-08-12T10:12:34.818Z"
   },
   {
    "duration": 273,
    "start_time": "2022-08-12T10:12:36.379Z"
   },
   {
    "duration": 5,
    "start_time": "2022-08-12T10:13:04.979Z"
   },
   {
    "duration": 343,
    "start_time": "2022-08-12T10:13:05.376Z"
   },
   {
    "duration": 278,
    "start_time": "2022-08-12T10:13:17.355Z"
   },
   {
    "duration": 8,
    "start_time": "2022-08-12T10:14:37.313Z"
   },
   {
    "duration": 994,
    "start_time": "2022-08-12T10:14:37.869Z"
   },
   {
    "duration": 10,
    "start_time": "2022-08-12T10:14:51.553Z"
   },
   {
    "duration": 9,
    "start_time": "2022-08-12T10:16:09.639Z"
   },
   {
    "duration": 13,
    "start_time": "2022-08-12T10:16:33.073Z"
   },
   {
    "duration": 5,
    "start_time": "2022-08-12T10:16:50.323Z"
   },
   {
    "duration": 6,
    "start_time": "2022-08-12T10:16:54.344Z"
   },
   {
    "duration": 6,
    "start_time": "2022-08-12T10:18:20.848Z"
   },
   {
    "duration": 6,
    "start_time": "2022-08-12T10:33:54.573Z"
   },
   {
    "duration": 52,
    "start_time": "2022-08-12T10:33:54.715Z"
   },
   {
    "duration": 12,
    "start_time": "2022-08-12T10:33:54.894Z"
   },
   {
    "duration": 5,
    "start_time": "2022-08-12T10:33:55.056Z"
   },
   {
    "duration": 9,
    "start_time": "2022-08-12T10:33:55.232Z"
   },
   {
    "duration": 13,
    "start_time": "2022-08-12T10:33:55.409Z"
   },
   {
    "duration": 5,
    "start_time": "2022-08-12T10:33:55.755Z"
   },
   {
    "duration": 240,
    "start_time": "2022-08-12T10:33:55.936Z"
   },
   {
    "duration": 5,
    "start_time": "2022-08-12T10:33:56.178Z"
   },
   {
    "duration": 310,
    "start_time": "2022-08-12T10:33:56.286Z"
   },
   {
    "duration": 8,
    "start_time": "2022-08-12T10:33:56.862Z"
   },
   {
    "duration": 1149,
    "start_time": "2022-08-12T10:33:57.018Z"
   },
   {
    "duration": 9,
    "start_time": "2022-08-12T10:33:58.170Z"
   },
   {
    "duration": 6,
    "start_time": "2022-08-12T10:33:58.181Z"
   },
   {
    "duration": 7,
    "start_time": "2022-08-12T10:33:58.400Z"
   },
   {
    "duration": 5,
    "start_time": "2022-08-12T10:33:58.808Z"
   },
   {
    "duration": 578978,
    "start_time": "2022-08-12T10:33:58.991Z"
   },
   {
    "duration": 107,
    "start_time": "2022-08-12T10:43:37.972Z"
   },
   {
    "duration": 11,
    "start_time": "2022-08-12T10:43:38.081Z"
   },
   {
    "duration": 177,
    "start_time": "2022-08-12T10:43:38.094Z"
   },
   {
    "duration": 96,
    "start_time": "2022-08-12T10:43:38.273Z"
   },
   {
    "duration": 253812,
    "start_time": "2022-08-12T10:43:38.372Z"
   },
   {
    "duration": 4,
    "start_time": "2022-08-12T10:47:52.185Z"
   },
   {
    "duration": 22830,
    "start_time": "2022-08-12T10:47:52.191Z"
   },
   {
    "duration": 51,
    "start_time": "2022-08-12T10:48:15.023Z"
   },
   {
    "duration": 1698,
    "start_time": "2022-08-13T10:10:31.522Z"
   },
   {
    "duration": 153,
    "start_time": "2022-08-13T10:10:33.223Z"
   },
   {
    "duration": 11,
    "start_time": "2022-08-13T10:10:33.378Z"
   },
   {
    "duration": 3,
    "start_time": "2022-08-13T10:10:33.391Z"
   },
   {
    "duration": 7,
    "start_time": "2022-08-13T10:10:33.395Z"
   },
   {
    "duration": 13,
    "start_time": "2022-08-13T10:10:33.403Z"
   },
   {
    "duration": 4,
    "start_time": "2022-08-13T10:10:33.787Z"
   },
   {
    "duration": 230,
    "start_time": "2022-08-13T10:10:34.090Z"
   },
   {
    "duration": 6,
    "start_time": "2022-08-13T10:10:34.381Z"
   },
   {
    "duration": 412,
    "start_time": "2022-08-13T10:10:34.680Z"
   },
   {
    "duration": 7,
    "start_time": "2022-08-13T10:10:36.363Z"
   },
   {
    "duration": 732,
    "start_time": "2022-08-13T10:10:37.044Z"
   },
   {
    "duration": 7,
    "start_time": "2022-08-13T10:10:38.976Z"
   },
   {
    "duration": 6,
    "start_time": "2022-08-13T10:10:48.284Z"
   },
   {
    "duration": 6,
    "start_time": "2022-08-13T10:10:48.863Z"
   },
   {
    "duration": 131,
    "start_time": "2022-08-13T10:13:59.036Z"
   },
   {
    "duration": 5,
    "start_time": "2022-08-13T10:14:02.379Z"
   },
   {
    "duration": 195,
    "start_time": "2022-08-13T10:14:03.212Z"
   },
   {
    "duration": 517049,
    "start_time": "2022-08-13T10:14:30.873Z"
   },
   {
    "duration": 18,
    "start_time": "2022-08-13T10:27:14.074Z"
   },
   {
    "duration": 12,
    "start_time": "2022-08-13T10:27:23.716Z"
   },
   {
    "duration": 13,
    "start_time": "2022-08-13T10:28:24.231Z"
   },
   {
    "duration": 63,
    "start_time": "2022-08-13T10:28:25.045Z"
   },
   {
    "duration": 5,
    "start_time": "2022-08-13T10:28:32.205Z"
   },
   {
    "duration": 4,
    "start_time": "2022-08-13T10:32:45.448Z"
   },
   {
    "duration": 46,
    "start_time": "2022-08-13T10:32:45.706Z"
   },
   {
    "duration": 8,
    "start_time": "2022-08-13T10:32:45.974Z"
   },
   {
    "duration": 5,
    "start_time": "2022-08-13T10:32:46.259Z"
   },
   {
    "duration": 7,
    "start_time": "2022-08-13T10:32:46.526Z"
   },
   {
    "duration": 10,
    "start_time": "2022-08-13T10:32:46.731Z"
   },
   {
    "duration": 4,
    "start_time": "2022-08-13T10:32:47.345Z"
   },
   {
    "duration": 187,
    "start_time": "2022-08-13T10:32:47.806Z"
   },
   {
    "duration": 5,
    "start_time": "2022-08-13T10:32:48.233Z"
   },
   {
    "duration": 218,
    "start_time": "2022-08-13T10:32:48.784Z"
   },
   {
    "duration": 8,
    "start_time": "2022-08-13T10:32:52.169Z"
   },
   {
    "duration": 758,
    "start_time": "2022-08-13T10:32:52.354Z"
   },
   {
    "duration": 7,
    "start_time": "2022-08-13T10:32:57.581Z"
   },
   {
    "duration": 5,
    "start_time": "2022-08-13T10:32:58.205Z"
   },
   {
    "duration": 8,
    "start_time": "2022-08-13T10:33:05.922Z"
   },
   {
    "duration": 6,
    "start_time": "2022-08-13T10:33:06.267Z"
   },
   {
    "duration": 6,
    "start_time": "2022-08-13T10:33:07.459Z"
   },
   {
    "duration": 5,
    "start_time": "2022-08-13T10:33:10.689Z"
   },
   {
    "duration": 45,
    "start_time": "2022-08-13T10:33:15.488Z"
   },
   {
    "duration": 19,
    "start_time": "2022-08-13T10:33:16.042Z"
   },
   {
    "duration": 140,
    "start_time": "2022-08-13T10:33:19.277Z"
   },
   {
    "duration": 7,
    "start_time": "2022-08-13T10:33:19.857Z"
   },
   {
    "duration": 167834,
    "start_time": "2022-08-13T10:33:56.911Z"
   },
   {
    "duration": 2,
    "start_time": "2022-08-13T10:36:44.747Z"
   },
   {
    "duration": 41817,
    "start_time": "2022-08-13T10:36:44.751Z"
   },
   {
    "duration": 10,
    "start_time": "2022-08-13T10:37:26.569Z"
   },
   {
    "duration": 107,
    "start_time": "2022-08-13T10:41:00.507Z"
   },
   {
    "duration": 14,
    "start_time": "2022-08-13T10:41:01.533Z"
   },
   {
    "duration": 6,
    "start_time": "2022-08-13T10:41:22.576Z"
   }
  ],
  "kernelspec": {
   "display_name": "Python 3",
   "language": "python",
   "name": "python3"
  },
  "language_info": {
   "codemirror_mode": {
    "name": "ipython",
    "version": 3
   },
   "file_extension": ".py",
   "mimetype": "text/x-python",
   "name": "python",
   "nbconvert_exporter": "python",
   "pygments_lexer": "ipython3",
   "version": "3.8.8"
  },
  "toc": {
   "base_numbering": 1,
   "nav_menu": {},
   "number_sections": true,
   "sideBar": true,
   "skip_h1_title": true,
   "title_cell": "Table of Contents",
   "title_sidebar": "Contents",
   "toc_cell": false,
   "toc_position": {},
   "toc_section_display": true,
   "toc_window_display": false
  }
 },
 "nbformat": 4,
 "nbformat_minor": 2
}
